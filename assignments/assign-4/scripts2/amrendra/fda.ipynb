{
 "cells": [
  {
   "cell_type": "code",
   "execution_count": 1,
   "metadata": {},
   "outputs": [],
   "source": [
    "import numpy as np\n",
    "import matplotlib.pyplot as plt\n",
    "import os, argparse, math, random\n",
    "from datetime import datetime\n",
    "import errno\n",
    "\n",
    "start_time = datetime.now()\n",
    "\n",
    "outputPath = \"../../dataset/prep/2b/fda/\"\n",
    "\n",
    "if not os.path.exists(os.path.dirname(outputPath)):\n",
    "    try:\n",
    "        os.makedirs(os.path.dirname(outputPath))\n",
    "    except OSError as exc:  # Guard against race condition\n",
    "        if exc.errno != errno.EEXIST:\n",
    "            raise\n",
    "\n",
    "inputPath = \"../../dataset/prep/2b/bovw/\"\n",
    "\n",
    "classNames = [\"bayou\", \"chalet\", \"creek\"]\n",
    "dataTypes = [\"test\", \"train\"]"
   ]
  },
  {
   "cell_type": "code",
   "execution_count": 12,
   "metadata": {},
   "outputs": [
    {
     "name": "stdout",
     "output_type": "stream",
     "text": [
      "../../dataset/prep/2b/bovw/test_bayou.bovw\n",
      "../../dataset/prep/2b/bovw/test_chalet.bovw\n",
      "../../dataset/prep/2b/bovw/test_creek.bovw\n",
      "../../dataset/prep/2b/bovw/train_bayou.bovw\n",
      "../../dataset/prep/2b/bovw/train_chalet.bovw\n",
      "../../dataset/prep/2b/bovw/train_creek.bovw\n",
      "(2, 3, 50, 32)\n"
     ]
    }
   ],
   "source": [
    "wholeData = []\n",
    "\n",
    "def fileHandle(fileName):\n",
    "#     wholeData = []\n",
    "    file = open(fileName)\n",
    "    for line in file:\n",
    "        teLine = line.rstrip('\\n ').split(' ')\n",
    "        nLine = [float(i) for i in teLine]\n",
    "        nLine = np.array(nLine)\n",
    "        wholeData.append(nLine)\n",
    "    file.close()\n",
    "    return \n",
    "\n",
    "def fileHandle2(fileName):\n",
    "    wholeData = []\n",
    "    file = open(fileName)\n",
    "    for line in file:\n",
    "        teLine = line.rstrip('\\n ').split(' ')\n",
    "        nLine = [float(i) for i in teLine]\n",
    "        nLine = np.array(nLine)\n",
    "        wholeData.append(nLine)\n",
    "    file.close()\n",
    "    return wholeData\n",
    "\n",
    "count = 0\n",
    "# for root, dirs, files in os.walk(inputPath):\n",
    "#     for f in files:\n",
    "#         count += 1\n",
    "#         path = os.path.relpath(os.path.join(root, f), \".\")\n",
    "#         print(count,\":: read: \",path)\n",
    "#         fileHandle(path)\n",
    "\n",
    "for dataType in dataTypes:\n",
    "    data = []\n",
    "    for className in classNames:\n",
    "        count += 1\n",
    "        fileName = inputPath + dataType + \"_\" + className + \".bovw\"\n",
    "        data.append(fileHandle2( fileName ))\n",
    "        print(fileName)\n",
    "    data = np.array(data)\n",
    "    wholeData.append(data)\n",
    "\n",
    "wholeData = np.array(wholeData)\n",
    "print(np.shape(wholeData))\n",
    "# print(wholeData)"
   ]
  },
  {
   "cell_type": "code",
   "execution_count": null,
   "metadata": {},
   "outputs": [],
   "source": [
    "def writeFDA(l, dataType, className, values):\n",
    "#     print(values)\n",
    "    path = outputPath + dataType + \"_\" + className + \"_\" + str(l) + \".fda\"\n",
    "    if not os.path.exists(os.path.dirname(path)):\n",
    "        try:\n",
    "            os.makedirs(os.path.dirname(path))\n",
    "        except OSError as exc:  # Guard against race condition\n",
    "            if exc.errno != errno.EEXIST:\n",
    "                raise\n",
    "    try:\n",
    "        print(\"target File: \", path)\n",
    "        outfile = open(path, \"w\")\n",
    "    except IOError:\n",
    "        print(\"File not created !!!!!!!!!!!!!!!!!!!!!!!!!\")\n",
    "        \n",
    "    for line in values:\n",
    "#         print(line)\n",
    "        for feature in line:\n",
    "            outfile.write(str(feature)+\" \")\n",
    "#             print(str(feature)+\" \")\n",
    "        outfile.write(\"\\n\")\n",
    "        \n",
    "    outfile.close()\n",
    "    \n",
    "def createFDAproj(omega, data):\n",
    "    projection = []\n",
    "    for pt in data:\n",
    "        projection.append(omega.T.dot(pt))\n",
    "    return np.array(projection)"
   ]
  },
  {
   "cell_type": "code",
   "execution_count": 20,
   "metadata": {},
   "outputs": [
    {
     "name": "stdout",
     "output_type": "stream",
     "text": [
      "0   1\n",
      "0   2\n",
      "1   2\n",
      "3\n"
     ]
    }
   ],
   "source": [
    "wcount = 0\n",
    "\n",
    "for i in range(3):\n",
    "    for j in range(i+1,3):\n",
    "        data = np.concatenate( (wholeData[1][i],wholeData[1][j]), axis=0 )\n",
    "        mean = np.mean(data, axis = 0)\n",
    "        yn = data - mean\n",
    "        scatter = len(data)*np.matmul(yn.T, yn)\n",
    "        \n",
    "        mean1 = np.mean( wholeData[1][i], axis=0)\n",
    "        mean2 = np.mean( wholeData[1][j], axis=0)\n",
    "        difference = mean1 - mean2 \n",
    "        omega = np.matmul(np.linalg.inv(scatter), difference)\n",
    "        wcount += 1\n",
    "        print(i,\" \",j)\n",
    "print(wcount)"
   ]
  },
  {
   "cell_type": "code",
   "execution_count": null,
   "metadata": {},
   "outputs": [],
   "source": []
  },
  {
   "cell_type": "code",
   "execution_count": null,
   "metadata": {},
   "outputs": [],
   "source": []
  },
  {
   "cell_type": "code",
   "execution_count": null,
   "metadata": {},
   "outputs": [],
   "source": []
  },
  {
   "cell_type": "code",
   "execution_count": null,
   "metadata": {},
   "outputs": [],
   "source": []
  },
  {
   "cell_type": "code",
   "execution_count": null,
   "metadata": {},
   "outputs": [],
   "source": []
  },
  {
   "cell_type": "code",
   "execution_count": 16,
   "metadata": {},
   "outputs": [
    {
     "name": "stdout",
     "output_type": "stream",
     "text": [
      "[1.5 2.5]\n",
      "[3.5 5. ]\n",
      "[-2.  -2.5]\n",
      "[[2 2]\n",
      " [1 3]\n",
      " [4 8]\n",
      " [3 2]]\n"
     ]
    }
   ],
   "source": [
    "a = np.array([[2,2], [1,3]])\n",
    "b = np.array([[4,8], [3,2]])\n",
    "mean1 = np.mean(a,axis=0)\n",
    "mean2 = np.mean(b,axis=0)\n",
    "print(mean1)\n",
    "print(mean2)\n",
    "\n",
    "print(mean1-mean2)\n",
    "\n",
    "c = np.concatenate((a,b),axis=0)\n",
    "print(c)"
   ]
  },
  {
   "cell_type": "code",
   "execution_count": null,
   "metadata": {},
   "outputs": [],
   "source": []
  }
 ],
 "metadata": {
  "kernelspec": {
   "display_name": "Python 3",
   "language": "python",
   "name": "python3"
  },
  "language_info": {
   "codemirror_mode": {
    "name": "ipython",
    "version": 3
   },
   "file_extension": ".py",
   "mimetype": "text/x-python",
   "name": "python",
   "nbconvert_exporter": "python",
   "pygments_lexer": "ipython3",
   "version": "3.7.1rc1"
  }
 },
 "nbformat": 4,
 "nbformat_minor": 2
}
