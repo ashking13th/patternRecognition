{
 "cells": [
  {
   "cell_type": "code",
   "execution_count": 18,
   "metadata": {},
   "outputs": [],
   "source": [
    "import numpy as np\n",
    "import matplotlib.pyplot as plt\n",
    "import os, argparse, math, random\n",
    "from datetime import datetime\n",
    "import errno\n",
    "\n",
    "start_time = datetime.now()\n",
    "\n",
    "outputPath = \"../dataset/prep/2b/pca/\"\n",
    "\n",
    "if not os.path.exists(os.path.dirname(outputPath)):\n",
    "    try:\n",
    "        os.makedirs(os.path.dirname(outputPath))\n",
    "    except OSError as exc:  # Guard against race condition\n",
    "        if exc.errno != errno.EEXIST:\n",
    "            raise\n",
    "\n",
    "inputPath = \"../../dataset/data_set1/\"\n",
    "\n",
    "train = [\"class1.txt\", \"class2.txt\", \"class3.txt\"]\n",
    "test = [\"classt1.txt\", \"classt2.txt\", \"classt3.txt\"]"
   ]
  },
  {
   "cell_type": "code",
   "execution_count": 19,
   "metadata": {},
   "outputs": [
    {
     "name": "stdout",
     "output_type": "stream",
     "text": [
      "Reading:  class1.txt\n",
      "Reading:  class2.txt\n",
      "Reading:  class3.txt\n",
      "Reading:  classt1.txt\n",
      "Reading:  classt2.txt\n",
      "Reading:  classt3.txt\n",
      "(3, 125, 3)\n",
      "(3, 375, 3)\n"
     ]
    }
   ],
   "source": [
    "testData = []\n",
    "trainData = []\n",
    "\n",
    "def fileHandle(fileName):\n",
    "    print(\"Reading: \", filename)\n",
    "    wholeData = []\n",
    "    file = open(fileName)\n",
    "    for line in file:\n",
    "        teLine = line.rstrip('\\n ').split(' ')\n",
    "        nLine = [float(i) for i in teLine]\n",
    "        nLine = np.array(nLine)\n",
    "        nLine = np.insert(nLine, 0, 1, axis=0)\n",
    "        wholeData.append(nLine)\n",
    "    file.close()\n",
    "#     print(wholeData)\n",
    "    return wholeData\n",
    "\n",
    "count = 0\n",
    "\n",
    "for filename in train:\n",
    "    val = fileHandle(inputPath + filename)\n",
    "    trainData.append(val)\n",
    "#     print(filename)\n",
    "#     print(val)\n",
    "for filename in test:\n",
    "    val = fileHandle(inputPath + filename)\n",
    "    testData.append(val)\n",
    "#     print(filename)\n",
    "#     print(val)\n",
    "\n",
    "\n",
    "testData = np.array(testData)\n",
    "trainData = np.array(trainData)\n",
    "\n",
    "print(testData.shape)\n",
    "print(trainData.shape)"
   ]
  },
  {
   "cell_type": "code",
   "execution_count": 20,
   "metadata": {},
   "outputs": [],
   "source": [
    "def onePerceptron(data1, data2, dimension, neta):\n",
    "#     dimensions = len(data[0])\n",
    "    \n",
    "#     w0 = 1\n",
    "    aVect = np.zeros(dimension+1)\n",
    "    for i in range(dimension+1):\n",
    "        aVect[i] = 1\n",
    "        \n",
    "    summer = 0\n",
    "#     w0summer = 0\n",
    "    \n",
    "    wrong = len(data1) + len(data2)\n",
    "    \n",
    "    iterCount = 0\n",
    "    while wrong > 0 :\n",
    "        wrong = 0\n",
    "#         print(\"Iteration : \", iterCount)\n",
    "        for point in data1:\n",
    "            if aVect.T.dot(point) < 0:\n",
    "                summer += point\n",
    "#                 w0summer += 1\n",
    "                wrong += 1\n",
    "        for point in data2:\n",
    "            if aVect.T.dot(point) > 0:\n",
    "                summer -= point\n",
    "#                 w0summer -= 1\n",
    "                wrong += 1\n",
    "        \n",
    "        aVect += neta * summer\n",
    "#         w0 += neta * w0summer\n",
    "        iterCount += 1\n",
    "    return aVect\n"
   ]
  },
  {
   "cell_type": "code",
   "execution_count": 22,
   "metadata": {},
   "outputs": [
    {
     "name": "stdout",
     "output_type": "stream",
     "text": [
      "Classes :  0  vs  1\n",
      "Classes :  0  vs  2\n",
      "Classes :  1  vs  2\n",
      "[array([125.,   0.,   0.]), array([  0., 125.,   0.]), array([  0.,   0., 125.])]\n"
     ]
    }
   ],
   "source": [
    "resultsArray = []\n",
    "aVectArray = []\n",
    "w0Array = []\n",
    "\n",
    "for i in range(3):\n",
    "    for j in range(i+1, 3):\n",
    "        print(\"Classes : \",i,\" vs \",j)\n",
    "        aVect = onePerceptron(trainData[i], trainData[j], 2, 0.01)\n",
    "        aVectArray.append(aVect)\n",
    "        w0Array.append(w0)\n",
    "        \n",
    "## Decision\n",
    "\n",
    "confusionMatrix = []\n",
    "for i in range(3):\n",
    "    row = np.zeros(3)\n",
    "    \n",
    "    for point in testData[i]:\n",
    "        ans = 0\n",
    "        dec = np.zeros(3)\n",
    "        \n",
    "        dec[0] = 0 if ( aVectArray[0].T.dot(point) > 0 ) else 1\n",
    "        dec[1] = 0 if ( aVectArray[1].T.dot(point) > 0 ) else 2\n",
    "        dec[2] = 1 if ( aVectArray[2].T.dot(point) > 0 ) else 2\n",
    "        \n",
    "        xd = np.zeros(3)\n",
    "        for x in dec:\n",
    "            xd[int(x)] += 1\n",
    "            \n",
    "        if(xd[np.argmax(xd)] > 1):\n",
    "            ans = np.argmax(xd)\n",
    "            \n",
    "        row[ans] += 1\n",
    "    confusionMatrix.append(row)\n",
    "    \n",
    "print(confusionMatrix)\n"
   ]
  },
  {
   "cell_type": "code",
   "execution_count": null,
   "metadata": {},
   "outputs": [],
   "source": []
  },
  {
   "cell_type": "code",
   "execution_count": null,
   "metadata": {},
   "outputs": [],
   "source": []
  },
  {
   "cell_type": "code",
   "execution_count": 17,
   "metadata": {},
   "outputs": [
    {
     "name": "stdout",
     "output_type": "stream",
     "text": [
      "[ 6  8 10]\n",
      "[ 1  6  8 10]\n"
     ]
    }
   ],
   "source": [
    "a = np.array([1,2,3])\n",
    "b = np.array([5,6,7])\n",
    "\n",
    "c = a\n",
    "c += b\n",
    "print(c)\n",
    "\n",
    "print(np.insert(a,0,1,axis=0))"
   ]
  },
  {
   "cell_type": "code",
   "execution_count": null,
   "metadata": {},
   "outputs": [],
   "source": []
  }
 ],
 "metadata": {
  "kernelspec": {
   "display_name": "Python 3",
   "language": "python",
   "name": "python3"
  },
  "language_info": {
   "codemirror_mode": {
    "name": "ipython",
    "version": 3
   },
   "file_extension": ".py",
   "mimetype": "text/x-python",
   "name": "python",
   "nbconvert_exporter": "python",
   "pygments_lexer": "ipython3",
   "version": "3.7.1rc1"
  }
 },
 "nbformat": 4,
 "nbformat_minor": 2
}
