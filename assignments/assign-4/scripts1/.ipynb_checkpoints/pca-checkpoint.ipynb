{
 "cells": [
  {
   "cell_type": "code",
   "execution_count": 7,
   "metadata": {},
   "outputs": [],
   "source": [
    "import numpy as np\n",
    "import matplotlib.pyplot as plt\n",
    "import os, argparse, math, random\n",
    "from datetime import datetime\n",
    "import errno\n",
    "\n",
    "start_time = datetime.now()\n",
    "\n",
    "outputPath = \"../dataset/prep/2b/pca/\"\n",
    "\n",
    "if not os.path.exists(os.path.dirname(outputPath)):\n",
    "    try:\n",
    "        os.makedirs(os.path.dirname(outputPath))\n",
    "    except OSError as exc:  # Guard against race condition\n",
    "        if exc.errno != errno.EEXIST:\n",
    "            raise\n",
    "\n",
    "inputPath = \"../dataset/prep/2b/bovw/\"\n",
    "\n",
    "classNames = [\"bayou\", \"chalet\", \"creek\"]\n",
    "dataTypes = [\"test\", \"train\"]"
   ]
  },
  {
   "cell_type": "code",
   "execution_count": 15,
   "metadata": {},
   "outputs": [
    {
     "name": "stdout",
     "output_type": "stream",
     "text": [
      "1 \t:: read:  ..\\dataset\\prep\\2b\\bovw\\test_bayou.bovw\n",
      "2 \t:: read:  ..\\dataset\\prep\\2b\\bovw\\test_chalet.bovw\n",
      "3 \t:: read:  ..\\dataset\\prep\\2b\\bovw\\test_creek.bovw\n",
      "4 \t:: read:  ..\\dataset\\prep\\2b\\bovw\\train_bayou.bovw\n",
      "5 \t:: read:  ..\\dataset\\prep\\2b\\bovw\\train_chalet.bovw\n",
      "6 \t:: read:  ..\\dataset\\prep\\2b\\bovw\\train_creek.bovw\n",
      "(300, 32)\n",
      "(300, 300)\n",
      "[[ 3.89333548e+04  1.51580645e+02  4.45593548e+03 ...  1.09370484e+04\n",
      "   3.80387097e+02  1.70707742e+04]\n",
      " [ 1.51580645e+02  1.19354839e+01  2.06129032e+02 ...  1.92516129e+02\n",
      "   3.25806452e+00 -5.32258065e+01]\n",
      " [ 4.45593548e+03  2.06129032e+02  8.36824194e+03 ...  6.63916935e+03\n",
      "   3.24322581e+02  1.49441935e+03]\n",
      " ...\n",
      " [ 1.09370484e+04  1.92516129e+02  6.63916935e+03 ...  1.20505766e+04\n",
      "   2.36645161e+02  8.97722581e+03]\n",
      " [ 3.80387097e+02  3.25806452e+00  3.24322581e+02 ...  2.36645161e+02\n",
      "   3.36129032e+01  1.89193548e+02]\n",
      " [ 1.70707742e+04 -5.32258065e+01  1.49441935e+03 ...  8.97722581e+03\n",
      "   1.89193548e+02  1.30877871e+05]]\n"
     ]
    }
   ],
   "source": [
    "wholeData = []\n",
    "\n",
    "def fileHandle(fileName):\n",
    "#     wholeData = []\n",
    "    file = open(fileName)\n",
    "    for line in file:\n",
    "        teLine = line.rstrip('\\n ').split(' ')\n",
    "        nLine = [float(i) for i in teLine]\n",
    "        nLine = np.array(nLine)\n",
    "        wholeData.append(nLine)\n",
    "    file.close()\n",
    "    return \n",
    "\n",
    "count = 0\n",
    "for root, dirs, files in os.walk(inputPath):\n",
    "    for f in files:\n",
    "        count += 1\n",
    "        path = os.path.relpath(os.path.join(root, f), \".\")\n",
    "        print(count,\"\\t:: read: \",path)\n",
    "        fileHandle(path)\n",
    "\n",
    "wholeData = np.array(wholeData)\n",
    "print(np.shape(wholeData))\n",
    "\n",
    "covMat = np.cov(wholeData)\n",
    "\n",
    "print(np.shape(covMat))\n",
    "print(covMat)"
   ]
  },
  {
   "cell_type": "code",
   "execution_count": 17,
   "metadata": {},
   "outputs": [
    {
     "name": "stdout",
     "output_type": "stream",
     "text": [
      "(300, 300)\n"
     ]
    }
   ],
   "source": [
    "eigenValues, eigenVectors = np.linalg.eig(covMat)\n",
    "allDirs = eigenVectors[np.argsort(eigenValues)]\n",
    "\n",
    "print(np.shape(allDirs))"
   ]
  },
  {
   "cell_type": "code",
   "execution_count": null,
   "metadata": {},
   "outputs": [],
   "source": []
  }
 ],
 "metadata": {
  "kernelspec": {
   "display_name": "Python 3",
   "language": "python",
   "name": "python3"
  },
  "language_info": {
   "codemirror_mode": {
    "name": "ipython",
    "version": 3
   },
   "file_extension": ".py",
   "mimetype": "text/x-python",
   "name": "python",
   "nbconvert_exporter": "python",
   "pygments_lexer": "ipython3",
   "version": "3.7.1rc1"
  }
 },
 "nbformat": 4,
 "nbformat_minor": 2
}
