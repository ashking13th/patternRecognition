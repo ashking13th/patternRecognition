{
 "cells": [
  {
   "cell_type": "code",
   "execution_count": 77,
   "metadata": {},
   "outputs": [],
   "source": [
    "import numpy as np\n",
    "import matplotlib.pyplot as plt\n",
    "import os, argparse, math, random\n",
    "from datetime import datetime\n",
    "\n",
    "A = []\n",
    "B = []\n",
    "PI = []\n",
    "wholeData = []\n",
    "\n",
    "ka_test_file = \"../dataset/prep/codebook/test_c0_\"\n",
    "kAA_test_file = \"../dataset/prep/codebook/test_c1_\"\n",
    "kha_test_file = \"../dataset/prep/codebook/test_c2_\"\n",
    "\n",
    "N = [2,3,4]\n",
    "M = [4,8,16,32]\n",
    "\n",
    "inputPath = \"../output/abpi/NEWem_c\"\n"
   ]
  },
  {
   "cell_type": "code",
   "execution_count": 78,
   "metadata": {},
   "outputs": [],
   "source": [
    "def fileHandle(fileName):\n",
    "#     global wholeData\n",
    "    wholeData = []\n",
    "    file = open(fileName)\n",
    "    for line in file:\n",
    "        teLine = line.rstrip('\\n ').split(' ')\n",
    "        nLine = [np.float64(i) for i in teLine]\n",
    "        nLine = np.array(nLine)\n",
    "#         print(nLine)\n",
    "        wholeData.append(nLine)\n",
    "    file.close()\n",
    "#     print(\"Read file: \",fileName,\" ; size: \",len(wholeData))\n",
    "    return wholeData"
   ]
  },
  {
   "cell_type": "code",
   "execution_count": 79,
   "metadata": {},
   "outputs": [],
   "source": [
    "\n",
    "\n",
    "def forwdProc(obs, n):\n",
    "    \n",
    "    global A\n",
    "    global B\n",
    "    global PI\n",
    "    global wholeData\n",
    "\n",
    "    # read above from files\n",
    "#     print(A)\n",
    "    \n",
    "    # Assuming I know n\n",
    "    lObs = len(obs)\n",
    "    \n",
    "    alpha = np.zeros((lObs, n))\n",
    "    for i in range(n):\n",
    "        alpha[0,i] = PI[i] * B[i,int(obs[0])]\n",
    "        \n",
    "    for ti in range(1,lObs):\n",
    "        for j in range(n):\n",
    "            storeVal = 0\n",
    "            for i in range(n):\n",
    "                storeVal += alpha[ti-1,i] * A[i,j]\n",
    "            alpha[ti,j] = storeVal * B[j, int(obs[ti])]\n",
    "    \n",
    "    result = 0\n",
    "    \n",
    "    for i in range(n):\n",
    "        result += alpha[ti-1,i]\n",
    "        \n",
    "    return result\n",
    "#     return alpha"
   ]
  },
  {
   "cell_type": "code",
   "execution_count": 80,
   "metadata": {},
   "outputs": [
    {
     "name": "stdout",
     "output_type": "stream",
     "text": [
      "Confusion Matrix for ka for N =  2  ; M =  4  :  [22. 36. 38.]\n",
      "Confusion Matrix for ka for N =  3  ; M =  4  :  [26. 46. 24.]\n",
      "Confusion Matrix for ka for N =  4  ; M =  4  :  [21. 47. 28.]\n",
      "Confusion Matrix for ka for N =  2  ; M =  8  :  [29. 33. 34.]\n",
      "Confusion Matrix for ka for N =  3  ; M =  8  :  [35. 44. 17.]\n",
      "Confusion Matrix for ka for N =  4  ; M =  8  :  [29. 49. 18.]\n",
      "Confusion Matrix for ka for N =  2  ; M =  16  :  [34. 37. 25.]\n",
      "Confusion Matrix for ka for N =  3  ; M =  16  :  [32. 43. 21.]\n",
      "Confusion Matrix for ka for N =  4  ; M =  16  :  [29. 51. 16.]\n",
      "Confusion Matrix for ka for N =  2  ; M =  32  :  [41. 38. 17.]\n",
      "Confusion Matrix for ka for N =  3  ; M =  32  :  [40. 41. 15.]\n",
      "Confusion Matrix for ka for N =  4  ; M =  32  :  [34. 51. 11.]\n"
     ]
    }
   ],
   "source": [
    "# loop n\n",
    "# loop m\n",
    "# loop class\n",
    "\n",
    "for i in M:\n",
    "    wholeData = []\n",
    "    wholeData = fileHandle(ka_test_file+str(i)+\".cb\")\n",
    "#     wholeData.append(filehandle(kAA_test_file+str(i)+\".cb\"))\n",
    "#     wholeData.append(filehandle(kha_test_file+str(i)+\".cb\"))\n",
    "    for j in N:\n",
    "        classP = np.zeros((len(wholeData),3))\n",
    "        probs = np.zeros(3)\n",
    "        \n",
    "        for ci in range(3):\n",
    "            A = fileHandle(inputPath+str(ci)+\"_n\"+str(j)+\"_m\"+str(i)+\".a\")\n",
    "            B = fileHandle(inputPath+str(ci)+\"_n\"+str(j)+\"_m\"+str(i)+\".b\")\n",
    "            PI = fileHandle(inputPath+str(ci)+\"_n\"+str(j)+\"_m\"+str(i)+\".pi\")[0]\n",
    "            A = np.array(A)\n",
    "            B = np.array(B)\n",
    "#             PI = np.array(PI)\n",
    "            for index, obs in enumerate(wholeData):\n",
    "                classP[index,ci] = forwdProc(obs,j)\n",
    "            \n",
    "        for index in range(len(wholeData)):\n",
    "#             print(classP[index])\n",
    "            probs[np.argmax(classP[index, :])] += 1\n",
    "            \n",
    "        print(\"Confusion Matrix for ka for N = \",j,\" ; M = \",i,\" : \",probs)"
   ]
  },
  {
   "cell_type": "code",
   "execution_count": 81,
   "metadata": {},
   "outputs": [
    {
     "name": "stdout",
     "output_type": "stream",
     "text": [
      "Confusion Matrix for kAA for N =  2  ; M =  4  :  [41. 57. 29.]\n",
      "Confusion Matrix for kAA for N =  3  ; M =  4  :  [51. 63. 13.]\n",
      "Confusion Matrix for kAA for N =  4  ; M =  4  :  [48. 60. 19.]\n",
      "Confusion Matrix for kAA for N =  2  ; M =  8  :  [25. 75. 27.]\n",
      "Confusion Matrix for kAA for N =  3  ; M =  8  :  [22. 82. 23.]\n",
      "Confusion Matrix for kAA for N =  4  ; M =  8  :  [21. 82. 24.]\n",
      "Confusion Matrix for kAA for N =  2  ; M =  16  :  [28. 71. 28.]\n",
      "Confusion Matrix for kAA for N =  3  ; M =  16  :  [26. 74. 27.]\n",
      "Confusion Matrix for kAA for N =  4  ; M =  16  :  [27. 77. 23.]\n",
      "Confusion Matrix for kAA for N =  2  ; M =  32  :  [39. 69. 19.]\n",
      "Confusion Matrix for kAA for N =  3  ; M =  32  :  [38. 77. 12.]\n",
      "Confusion Matrix for kAA for N =  4  ; M =  32  :  [35. 79. 13.]\n"
     ]
    }
   ],
   "source": [
    "for i in M:\n",
    "    wholeData = []\n",
    "    wholeData = fileHandle(kAA_test_file+str(i)+\".cb\")\n",
    "#     wholeData.append(filehandle(kAA_test_file+str(i)+\".cb\"))\n",
    "#     wholeData.append(filehandle(kha_test_file+str(i)+\".cb\"))\n",
    "    for j in N:\n",
    "        classP = np.zeros((len(wholeData),3))\n",
    "        probs = np.zeros(3)\n",
    "        \n",
    "        for ci in range(3):\n",
    "            A = fileHandle(inputPath+str(ci)+\"_n\"+str(j)+\"_m\"+str(i)+\".a\")\n",
    "            B = fileHandle(inputPath+str(ci)+\"_n\"+str(j)+\"_m\"+str(i)+\".b\")\n",
    "            PI = fileHandle(inputPath+str(ci)+\"_n\"+str(j)+\"_m\"+str(i)+\".pi\")[0]\n",
    "            A = np.array(A)\n",
    "            B = np.array(B)\n",
    "#             PI = np.array(PI)\n",
    "            for index, obs in enumerate(wholeData):\n",
    "                classP[index,ci] = forwdProc(obs,j)\n",
    "            \n",
    "        for index in range(len(wholeData)):\n",
    "#             print(classP[index])\n",
    "            probs[np.argmax(classP[index, :])] += 1\n",
    "            \n",
    "        print(\"Confusion Matrix for kAA for N = \",j,\" ; M = \",i,\" : \",probs)"
   ]
  },
  {
   "cell_type": "code",
   "execution_count": 82,
   "metadata": {},
   "outputs": [
    {
     "name": "stdout",
     "output_type": "stream",
     "text": [
      "Confusion Matrix for kha for N =  2  ; M =  4  :  [4. 2. 9.]\n",
      "Confusion Matrix for kha for N =  3  ; M =  4  :  [5. 2. 8.]\n",
      "Confusion Matrix for kha for N =  4  ; M =  4  :  [ 3.  1. 11.]\n",
      "Confusion Matrix for kha for N =  2  ; M =  8  :  [4. 7. 4.]\n",
      "Confusion Matrix for kha for N =  3  ; M =  8  :  [5. 8. 2.]\n",
      "Confusion Matrix for kha for N =  4  ; M =  8  :  [ 4. 10.  1.]\n",
      "Confusion Matrix for kha for N =  2  ; M =  16  :  [6. 6. 3.]\n",
      "Confusion Matrix for kha for N =  3  ; M =  16  :  [9. 3. 3.]\n",
      "Confusion Matrix for kha for N =  4  ; M =  16  :  [6. 5. 4.]\n",
      "Confusion Matrix for kha for N =  2  ; M =  32  :  [5. 6. 4.]\n",
      "Confusion Matrix for kha for N =  3  ; M =  32  :  [4. 8. 3.]\n",
      "Confusion Matrix for kha for N =  4  ; M =  32  :  [3. 8. 4.]\n"
     ]
    }
   ],
   "source": [
    "for i in M:\n",
    "    wholeData = []\n",
    "    wholeData = fileHandle(kha_test_file+str(i)+\".cb\")\n",
    "#     wholeData.append(filehandle(kAA_test_file+str(i)+\".cb\"))\n",
    "#     wholeData.append(filehandle(kha_test_file+str(i)+\".cb\"))\n",
    "    for j in N:\n",
    "        classP = np.zeros((len(wholeData),3))\n",
    "        probs = np.zeros(3)\n",
    "        \n",
    "        for ci in range(3):\n",
    "            A = fileHandle(inputPath+str(ci)+\"_n\"+str(j)+\"_m\"+str(i)+\".a\")\n",
    "            B = fileHandle(inputPath+str(ci)+\"_n\"+str(j)+\"_m\"+str(i)+\".b\")\n",
    "            PI = fileHandle(inputPath+str(ci)+\"_n\"+str(j)+\"_m\"+str(i)+\".pi\")[0]\n",
    "            A = np.array(A)\n",
    "            B = np.array(B)\n",
    "#             PI = np.array(PI)\n",
    "            for index, obs in enumerate(wholeData):\n",
    "                classP[index,ci] = forwdProc(obs,j)\n",
    "            \n",
    "        for index in range(len(wholeData)):\n",
    "#             print(classP[index])\n",
    "            probs[np.argmax(classP[index, :])] += 1\n",
    "            \n",
    "        print(\"Confusion Matrix for kha for N = \",j,\" ; M = \",i,\" : \",probs)"
   ]
  },
  {
   "cell_type": "code",
   "execution_count": null,
   "metadata": {},
   "outputs": [],
   "source": []
  }
 ],
 "metadata": {
  "kernelspec": {
   "display_name": "Python 3",
   "language": "python",
   "name": "python3"
  },
  "language_info": {
   "codemirror_mode": {
    "name": "ipython",
    "version": 3
   },
   "file_extension": ".py",
   "mimetype": "text/x-python",
   "name": "python",
   "nbconvert_exporter": "python",
   "pygments_lexer": "ipython3",
   "version": "3.7.1rc1"
  }
 },
 "nbformat": 4,
 "nbformat_minor": 2
}
