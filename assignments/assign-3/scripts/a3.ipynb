{
 "cells": [
  {
   "cell_type": "code",
   "execution_count": 1,
   "metadata": {},
   "outputs": [],
   "source": [
    "import numpy as np\n",
    "import matplotlib.pyplot as plt\n",
    "import os, argparse, math, random\n",
    "from datetime import datetime\n",
    "\n",
    "k = 10\n",
    "\n",
    "ka_test_folder = \"../dataset/Test/ka\"\n",
    "kAA_test_folder = \"../dataset/Test/kAA\"\n",
    "kha_test_folder = \"../dataset/Test/kha\"\n",
    "\n",
    "ka_train_folder = \"../dataset/Train/ka\"\n",
    "kAA_train_folder = \"../dataset/Train/kAA\"\n",
    "kha_train_folder = \"../dataset/Train/kha\"\n",
    "\n",
    "data = [] # training data"
   ]
  },
  {
   "cell_type": "code",
   "execution_count": 2,
   "metadata": {},
   "outputs": [
    {
     "name": "stdout",
     "output_type": "stream",
     "text": [
      "383  files read in folder  ../dataset/Train/ka\n",
      "510  files read in folder  ../dataset/Train/kAA\n",
      "61  files read in folder  ../dataset/Train/kha\n"
     ]
    }
   ],
   "source": [
    "def fileHandle(fileName):\n",
    "    wholeData = []\n",
    "    file = open(fileName)\n",
    "    for line in file:\n",
    "        teLine = line.rstrip('\\n ').split(' ')\n",
    "        nLine = [float(i) for i in teLine]\n",
    "        nLine = np.array(nLine)\n",
    "        wholeData.append(nLine)\n",
    "    file.close()\n",
    "    return wholeData\n",
    "\n",
    "# Reading all the example sets in a folder\\n\",\n",
    "def readFolder(folder):\n",
    "    data = []\n",
    "    count = 0\n",
    "    for root, dirs, files in os.walk(folder):\n",
    "        for f in files:\n",
    "#             print(\"Reading: \",f)\n",
    "            path = os.path.relpath(os.path.join(root, f), \".\")\n",
    "    #         target = os.path.relpath(os.path.join(root, os.path.splitext(f)[0]))\n",
    "            data.append(fileHandle(path))\n",
    "            count += 1\n",
    "    print(count,\" files read in folder \",folder)\n",
    "    return data\n",
    "\n",
    "# Reading all the training data\n",
    "data.append(readFolder(ka_train_folder))\n",
    "data.append(readFolder(kAA_train_folder))\n",
    "data.append(readFolder(kha_train_folder))"
   ]
  },
  {
   "cell_type": "code",
   "execution_count": 36,
   "metadata": {},
   "outputs": [],
   "source": [
    "# DTW\n",
    "def dtw(vector1, vector2):\n",
    "    tm = len(vector1)\n",
    "    tn = len(vector2)\n",
    "    \n",
    "#     matrix = [[0 for x in range(tn)] for y in range(tm)]\n",
    "    matrix = np.zeros(shape=(tm,tn), dtype=np.float64)\n",
    "    for i in range(tm):\n",
    "        matrix[i][0] = float(\"inf\")\n",
    "    for i in range(tn):\n",
    "        matrix[0][i] = float(\"inf\")\n",
    "    \n",
    "    matrix[0][0] = 0\n",
    "    \n",
    "    for i in range(tm):\n",
    "        for j in range(tn):\n",
    "            cost = np.linalg.norm(vector1[i] - vector2[j])\n",
    "            cost *= cost  \n",
    "            matrix[i][j] = cost + min(matrix[i-1][j-1], min(matrix[i-1][j], matrix[i][j-1]))\n",
    "#     print(\"matrix: \",matrix)\n",
    "    ans = (matrix[tm-1][tn-1])/(tm*tn)\n",
    "#     print(\"DTW value: \",ans)\n",
    "    return ans\n",
    "    \n",
    "def knn(test):\n",
    "    dataSize = len(data[0])+len(data[1])+len(data[2])\n",
    "#     print(\"data size: \",dataSize)\n",
    "    dtwArray = np.zeros(shape=(dataSize,2), dtype=np.float64)\n",
    "#     print(\"array: \",dtwArray)\n",
    "    \n",
    "    count = 0\n",
    "    \n",
    "    for i in range(len(data[0])):\n",
    "        dtwArray[count,0] = dtw(test,data[0][i])\n",
    "        dtwArray[count,1] = 0\n",
    "        count += 1\n",
    "    for i in range(len(data[1])):\n",
    "        dtwArray[count,0] = dtw(test,data[1][i])\n",
    "        dtwArray[count,1] = 1\n",
    "        count += 1\n",
    "    for i in range(len(data[2])):\n",
    "        dtwArray[count,0] = dtw(test,data[2][i])\n",
    "        dtwArray[count,1] = 2\n",
    "        count += 1\n",
    "        \n",
    "    dtwArray = dtwArray[np.argsort(dtwArray[:, 0])]\n",
    "#     dtwArray = np.sort(dtwArray,axis=0) #########\n",
    "\n",
    "    freq = np.zeros(3)\n",
    "    \n",
    "    for i in range(k):\n",
    "#         print(\"dtwArray[i,1] Value: \",dtwArray[i,1])\n",
    "        freq[int(dtwArray[i,1])] += 1\n",
    "#     print(\"Freq: \", freq)\n",
    "    ans = np.argmax(freq)\n",
    "    return \n",
    "\n",
    "def classifySet(test):\n",
    "    decision = np.zeros(3)\n",
    "    \n",
    "    count = 0\n",
    "    for example in test:\n",
    "        print(\"Processing test set no: \",count)\n",
    "        count += 1\n",
    "        decision[knn(example)] += 1\n",
    "#         break\n",
    "    return decision"
   ]
  },
  {
   "cell_type": "code",
   "execution_count": null,
   "metadata": {},
   "outputs": [
    {
     "name": "stdout",
     "output_type": "stream",
     "text": [
      "confusing ka\n",
      "96  files read in folder  ../dataset/Test/ka\n",
      "Processing test set no:  0\n",
      "Processing test set no:  1\n",
      "Processing test set no:  2\n",
      "Processing test set no:  3\n",
      "Processing test set no:  4\n",
      "Processing test set no:  5\n"
     ]
    }
   ],
   "source": [
    "confusion = []\n",
    "\n",
    "print(\"confusing ka\")\n",
    "confusion.append(classifySet(readFolder(ka_test_folder)))\n",
    "print(\"confusing kAA\")\n",
    "confusion.append(classifySet(readFolder(kAA_test_folder)))\n",
    "print(\"confusing kha\")\n",
    "confusion.append(classifySet(readFolder(kha_test_folder)))\n",
    "print(\"Confusion Matrix\")\n",
    "print(confusion)"
   ]
  },
  {
   "cell_type": "code",
   "execution_count": null,
   "metadata": {},
   "outputs": [],
   "source": []
  }
 ],
 "metadata": {
  "kernelspec": {
   "display_name": "Python 3",
   "language": "python",
   "name": "python3"
  },
  "language_info": {
   "codemirror_mode": {
    "name": "ipython",
    "version": 3
   },
   "file_extension": ".py",
   "mimetype": "text/x-python",
   "name": "python",
   "nbconvert_exporter": "python",
   "pygments_lexer": "ipython3",
   "version": "3.7.1rc1"
  }
 },
 "nbformat": 4,
 "nbformat_minor": 2
}
