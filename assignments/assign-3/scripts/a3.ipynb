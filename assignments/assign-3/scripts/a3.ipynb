{
 "cells": [
  {
   "cell_type": "code",
   "execution_count": 1,
   "metadata": {},
   "outputs": [],
   "source": [
    "import numpy as np\n",
    "import matplotlib.pyplot as plt\n",
    "\n",
    "ka_test_folder = \"../dataset/Test/ka\"\n",
    "kAA_test_folder = \"../dataset/Test/kAA\"\n",
    "kha_test_folder = \"../dataset/Test/kha\"\n",
    "\n",
    "ka_train_folder = \"../dataset/Train/ka\"\n",
    "kAA_train_folder = \"../dataset/Train/kAA\"\n",
    "kha_train_folder = \"../dataset/Train/kha\"\n",
    "\n",
    "trainData = []"
   ]
  },
  {
   "cell_type": "code",
   "execution_count": 2,
   "metadata": {},
   "outputs": [],
   "source": [
    "#handling of files\n",
    "def fileHandle(fileName):\n",
    "    wholeData = []\n",
    "    file = open(fileName)\n",
    "    for line in file:\n",
    "        teLine = line.rstrip('\\n ').split(' ')\n",
    "        nLine = [float(i) for i in teLine]\n",
    "        nLine = np.array(nLine)\n",
    "        wholeData.append(nLine)\n",
    "    file.close()\n",
    "    return wholeData\n",
    "\n",
    "# Reading all the example sets in a folder\n",
    "def readFolder(folder):\n",
    "    data = []\n",
    "    for root, dirs, files in os.walk(args[\"source\"]):\n",
    "        for f in files:\n",
    "            path = os.path.relpath(os.path.join(root, f), \".\")\n",
    "#             target = os.path.relpath(os.path.join(root, os.path.splitext(f)[0]))\n",
    "            data.append(fileHandle(path))\n",
    "    return data"
   ]
  },
  {
   "cell_type": "code",
   "execution_count": 3,
   "metadata": {},
   "outputs": [],
   "source": [
    "# DTW\n",
    "def dtw(vector1, vector2):\n",
    "    tm = len(vector1)\n",
    "    tn = len(vector2)\n",
    "    \n",
    "#     matrix = [[0 for x in range(tn)] for y in range(tm)]\n",
    "    matrix = np.zeros(shape=(tm,tn))\n",
    "    for i in range(tm):\n",
    "        matrix[i][0] = float(\"inf\")\n",
    "    for i in range(tn):\n",
    "        matrix[0][i] = float(\"inf\")\n",
    "    \n",
    "    matrix[0][0] = 0\n",
    "    \n",
    "    for i in range(tm):\n",
    "        for j in range(tn):\n",
    "            cost = np.linalg.norm(vector1[i] - vector2[j])\n",
    "            cost *= cost  \n",
    "            matrix[i][j] = cost + min(matrix[i-1][j-1], min(matrix[i-1][j], matrix[i][j-1]))\n",
    "    return (matrix[tm][tn])/(tm*tn)"
   ]
  },
  {
   "cell_type": "code",
   "execution_count": null,
   "metadata": {},
   "outputs": [],
   "source": [
    "trainData.append(readFolder(ka_train_folder))\n",
    "trainData.append(readFolder(kAA_train_folder))\n",
    "trainData.append(readFolder(kha_train_folder))"
   ]
  }
 ],
 "metadata": {
  "kernelspec": {
   "display_name": "Python 3",
   "language": "python",
   "name": "python3"
  },
  "language_info": {
   "codemirror_mode": {
    "name": "ipython",
    "version": 3
   },
   "file_extension": ".py",
   "mimetype": "text/x-python",
   "name": "python",
   "nbconvert_exporter": "python",
   "pygments_lexer": "ipython3",
   "version": "3.7.1rc1"
  }
 },
 "nbformat": 4,
 "nbformat_minor": 2
}
