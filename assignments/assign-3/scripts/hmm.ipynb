{
 "cells": [
  {
   "cell_type": "code",
   "execution_count": 1,
   "metadata": {},
   "outputs": [],
   "source": [
    "import numpy as np\n",
    "import matplotlib.pyplot as plt\n",
    "import os, argparse, math, random\n",
    "from datetime import datetime\n",
    "\n",
    "k = 10\n",
    "\n",
    "ka_test_folder = \"../dataset/Test/ka\"\n",
    "kAA_test_folder = \"../dataset/Test/kAA\"\n",
    "kha_test_folder = \"../dataset/Test/kha\"\n",
    "\n",
    "ka_train_folder = \"../dataset/Train/ka\"\n",
    "kAA_train_folder = \"../dataset/Train/kAA\"\n",
    "kha_train_folder = \"../dataset/Train/kha\"\n",
    "\n",
    "data = [] # training data\n",
    "dataLen = []\n",
    "testData = []\n",
    "testLen = []\n",
    "dtwMat = []\n",
    "confusionMat = []"
   ]
  },
  {
   "cell_type": "code",
   "execution_count": 2,
   "metadata": {},
   "outputs": [
    {
     "name": "stdout",
     "output_type": "stream",
     "text": [
      "383  files read in folder  ../dataset/Train/ka\n",
      "510  files read in folder  ../dataset/Train/kAA\n",
      "61  files read in folder  ../dataset/Train/kha\n",
      "96  files read in folder  ../dataset/Test/ka\n",
      "127  files read in folder  ../dataset/Test/kAA\n",
      "15  files read in folder  ../dataset/Test/kha\n"
     ]
    }
   ],
   "source": [
    "def fileHandle(fileName):\n",
    "    wholeData = []\n",
    "    file = open(fileName)\n",
    "    for line in file:\n",
    "        teLine = line.rstrip('\\n ').split(' ')\n",
    "        nLine = [float(i) for i in teLine]\n",
    "        nLine = np.array(nLine)\n",
    "        wholeData.append(nLine)\n",
    "    file.close()\n",
    "    return wholeData\n",
    "\n",
    "# Reading all the example sets in a folder\\n\",\n",
    "def readFolder(folder):\n",
    "    data = []\n",
    "    count = 0\n",
    "    for root, dirs, files in os.walk(folder):\n",
    "        for f in files:\n",
    "#             print(\"Reading: \",f)\n",
    "            path = os.path.relpath(os.path.join(root, f), \".\")\n",
    "    #         target = os.path.relpath(os.path.join(root, os.path.splitext(f)[0]))\n",
    "            data.append(fileHandle(path))\n",
    "            count += 1\n",
    "    print(count,\" files read in folder \",folder)\n",
    "    return data\n",
    "\n",
    "# Reading all the training data\n",
    "data.append(readFolder(ka_train_folder))\n",
    "dataLen.append(len(data[0]))\n",
    "data.append(readFolder(kAA_train_folder))\n",
    "dataLen.append(len(data[1]))\n",
    "data.append(readFolder(kha_train_folder))\n",
    "dataLen.append(len(data[2]))\n",
    "\n",
    "testData.append(readFolder(ka_test_folder))\n",
    "testLen.append(len(testData[0]))\n",
    "testData.append(readFolder(kAA_test_folder))\n",
    "testLen.append(len(testData[1]))\n",
    "testData.append(readFolder(kha_test_folder))\n",
    "testLen.append(len(testData[2]))"
   ]
  },
  {
   "cell_type": "code",
   "execution_count": null,
   "metadata": {},
   "outputs": [],
   "source": []
  }
 ],
 "metadata": {
  "kernelspec": {
   "display_name": "Python 3",
   "language": "python",
   "name": "python3"
  },
  "language_info": {
   "codemirror_mode": {
    "name": "ipython",
    "version": 3
   },
   "file_extension": ".py",
   "mimetype": "text/x-python",
   "name": "python",
   "nbconvert_exporter": "python",
   "pygments_lexer": "ipython3",
   "version": "3.7.1rc1"
  }
 },
 "nbformat": 4,
 "nbformat_minor": 2
}
